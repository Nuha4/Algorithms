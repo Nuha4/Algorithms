{
  "nbformat": 4,
  "nbformat_minor": 0,
  "metadata": {
    "colab": {
      "provenance": [],
      "authorship_tag": "ABX9TyNKPYORJ9i5hrwfMasoT8LM",
      "include_colab_link": true
    },
    "kernelspec": {
      "name": "python3",
      "display_name": "Python 3"
    },
    "language_info": {
      "name": "python"
    }
  },
  "cells": [
    {
      "cell_type": "markdown",
      "metadata": {
        "id": "view-in-github",
        "colab_type": "text"
      },
      "source": [
        "<a href=\"https://colab.research.google.com/github/Nuha4/Algorithms/blob/master/metrocard_cpi_fuel_correlation.ipynb\" target=\"_parent\"><img src=\"https://colab.research.google.com/assets/colab-badge.svg\" alt=\"Open In Colab\"/></a>"
      ]
    },
    {
      "cell_type": "code",
      "execution_count": null,
      "metadata": {
        "id": "PgpWfdZS7TVu"
      },
      "outputs": [],
      "source": [
        "import pandas as pd\n",
        "import matplotlib.pyplot as plt\n",
        "import seaborn as sns\n",
        "from scipy.stats import pearsonr, spearmanr\n",
        "import numpy as np"
      ]
    },
    {
      "cell_type": "code",
      "source": [
        "# ---------- Step 2: Load and Clean CPI Data ----------\n",
        "cpi_preview = pd.read_excel(\"CPI_640101.xlsx\", sheet_name='Data1', header=None)\n",
        "\n",
        "# Extract relevant columns: Date, Index, YoY %, QoQ %\n",
        "# cpi_data = cpi_preview.iloc[10:, [0, 4, 13, 22]].copy()\n",
        "# cpi_data.columns = ['Date', 'CPI_Adelaide', 'YoY_Change_Adelaide', 'QoQ_Change_Adelaide']\n",
        "\n",
        "cpi_data = cpi_preview.iloc[10:, [0, 4]].copy()\n",
        "cpi_data.columns = ['Date', 'CPI_Adelaide']\n",
        "\n",
        "# Convert to datetime and numeric\n",
        "cpi_data['Date'] = pd.to_datetime(cpi_data['Date'], errors='coerce')\n",
        "cpi_data['CPI_Adelaide'] = pd.to_numeric(cpi_data['CPI_Adelaide'], errors='coerce')\n",
        "# cpi_data['YoY_Change_Adelaide'] = pd.to_numeric(cpi_data['YoY_Change_Adelaide'], errors='coerce')\n",
        "# cpi_data['QoQ_Change_Adelaide'] = pd.to_numeric(cpi_data['QoQ_Change_Adelaide'], errors='coerce')\n",
        "\n",
        "# Drop rows with missing dates\n",
        "cpi_data = cpi_data[cpi_data['Date'].notna()]\n",
        "\n",
        "# Filter for 2022–2024\n",
        "cpi_data = cpi_data[(cpi_data['Date'] >= '2022-01-01') & (cpi_data['Date'] <= '2024-12-31')]\n",
        "\n",
        "print(cpi_data.head())"
      ],
      "metadata": {
        "colab": {
          "base_uri": "https://localhost:8080/"
        },
        "id": "nfdVNo28A_dY",
        "outputId": "34a83ead-98ed-439b-bf92-fbcda042bd6b"
      },
      "execution_count": null,
      "outputs": [
        {
          "output_type": "stream",
          "name": "stdout",
          "text": [
            "          Date  CPI_Adelaide\n",
            "304 2022-03-01         122.7\n"
          ]
        }
      ]
    },
    {
      "cell_type": "code",
      "source": [
        "\n",
        "# Interpolate quarterly data to monthly\n",
        "cpi_monthly = cpi_data.set_index('Date').resample('MS').interpolate(method='linear').reset_index()\n",
        "cpi_monthly['Month'] = cpi_monthly['Date'].dt.to_period('M').dt.to_timestamp()\n",
        "\n",
        "print(cpi_monthly)"
      ],
      "metadata": {
        "colab": {
          "base_uri": "https://localhost:8080/"
        },
        "id": "HN3dMyMW-LMW",
        "outputId": "e274df74-a3a7-4566-f069-9a99c6df3fd3"
      },
      "execution_count": 28,
      "outputs": [
        {
          "output_type": "stream",
          "name": "stdout",
          "text": [
            "        Date  CPI_Adelaide      Month\n",
            "0 2022-03-01         122.7 2022-03-01\n"
          ]
        }
      ]
    },
    {
      "cell_type": "code",
      "source": [
        "\n",
        "# ---------- Step 2: Load and Clean Fuel Data ----------\n",
        "fuel_df = pd.read_excel(\"australian-petroleum-statistics-data-extract-december-2024.xlsx\",\n",
        "                        sheet_name='Sales by state and territory')\n",
        "\n",
        "fuel_df = fuel_df[(fuel_df['Month'] >= '2022-01-01') & (fuel_df['Month'] <= '2024-12-31')]\n",
        "\n",
        "# print(fuel_df.head())\n",
        "\n",
        "fuel_df = fuel_df[fuel_df['State'] == 'SA'].copy()\n",
        "fuel_df['Month'] = pd.to_datetime(fuel_df['Month'], errors='coerce')\n",
        "# print(fuel_df.head())\n",
        "\n",
        "fuel_df.replace('n.p.', np.nan, inplace=True)\n",
        "fuel_df['Automotive gasoline: total (ML)'] = pd.to_numeric(fuel_df['Automotive gasoline: total (ML)'], errors='coerce')\n",
        "fuel_df = fuel_df[['Month', 'Automotive gasoline: total (ML)']]\n",
        "fuel_df = fuel_df.rename(columns={'Automotive gasoline: total (ML)': 'Fuel_Consumption_ML'})\n",
        "\n",
        "\n",
        "print(fuel_df.head())"
      ],
      "metadata": {
        "colab": {
          "base_uri": "https://localhost:8080/"
        },
        "id": "GsCTmAQP7r1F",
        "outputId": "e6133ad7-e2f8-4c0b-e8b6-337bde3680bc"
      },
      "execution_count": 30,
      "outputs": [
        {
          "output_type": "stream",
          "name": "stdout",
          "text": [
            "         Month  Fuel_Consumption_ML\n",
            "660 2022-01-01                 82.0\n",
            "661 2022-02-01                 82.3\n",
            "662 2022-03-01                 89.8\n",
            "663 2022-04-01                 84.0\n",
            "664 2022-05-01                 87.2\n"
          ]
        },
        {
          "output_type": "stream",
          "name": "stderr",
          "text": [
            "/tmp/ipython-input-30-186062716.py:13: FutureWarning: Downcasting behavior in `replace` is deprecated and will be removed in a future version. To retain the old behavior, explicitly call `result.infer_objects(copy=False)`. To opt-in to the future behavior, set `pd.set_option('future.no_silent_downcasting', True)`\n",
            "  fuel_df.replace('n.p.', np.nan, inplace=True)\n"
          ]
        }
      ]
    },
    {
      "cell_type": "code",
      "source": [
        "# ---------- Step 3: Load and Aggregate MetroCard Data ----------\n",
        "metro_df = pd.read_csv(\"banded-adelaide-metrocard-validations-2024-q4.csv\")\n",
        "\n",
        "metro_df['VALIDATION_DATE'] = pd.to_datetime(metro_df['VALIDATION_DATE'], dayfirst=True)\n",
        "\n",
        "metro_df['BAND_BOARDINGS_FLOOR'] = pd.to_numeric(metro_df['BAND_BOARDINGS_FLOOR'], errors='coerce')\n",
        "metro_df['Month'] = metro_df['VALIDATION_DATE'].dt.to_period('M').dt.to_timestamp()\n",
        "\n",
        "# print(metro_df)\n",
        "\n",
        "monthly_metro = metro_df.groupby('Month')['BAND_BOARDINGS_FLOOR'].sum().reset_index()\n",
        "monthly_metro = monthly_metro.rename(columns={'BAND_BOARDINGS_FLOOR': 'MetroCard_Usage'})\n",
        "\n",
        "monthly_metro = monthly_metro[\n",
        "    (monthly_metro['Month'] >= '2022-01-01') &\n",
        "    (monthly_metro['Month'] <= '2024-12-31')\n",
        "]\n",
        "\n",
        "print(monthly_metro)"
      ],
      "metadata": {
        "id": "m2KuTm8o9WE9",
        "colab": {
          "base_uri": "https://localhost:8080/"
        },
        "outputId": "a26a56da-a54c-4cfa-bfc2-35e2525fc6b9"
      },
      "execution_count": 35,
      "outputs": [
        {
          "output_type": "stream",
          "name": "stdout",
          "text": [
            "       Month  MetroCard_Usage\n",
            "0 2024-10-01          3003736\n",
            "1 2024-11-01          2557831\n",
            "2 2024-12-01          2193206\n"
          ]
        }
      ]
    },
    {
      "cell_type": "code",
      "source": [
        "\n",
        "# ---------- Step 4: Merge All Datasets ----------\n",
        "combined_df = pd.merge(cpi_monthly[['Month', 'CPI_Adelaide']], fuel_df, on='Month', how='outer')\n",
        "combined_df = pd.merge(combined_df, monthly_metro, on='Month', how='outer')\n",
        "combined_df = combined_df.sort_values('Month').reset_index(drop=True)\n",
        "\n",
        "# ---------- Final Output ----------\n",
        "print(combined_df.head())  # Preview"
      ],
      "metadata": {
        "id": "hyvUm28T9XEQ"
      },
      "execution_count": null,
      "outputs": []
    }
  ]
}